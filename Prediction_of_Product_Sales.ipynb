{
  "nbformat": 4,
  "nbformat_minor": 0,
  "metadata": {
    "colab": {
      "provenance": [],
      "authorship_tag": "ABX9TyMYoQ7wtGqgHZCaL6VL+xMK",
      "include_colab_link": true
    },
    "kernelspec": {
      "name": "python3",
      "display_name": "Python 3"
    },
    "language_info": {
      "name": "python"
    }
  },
  "cells": [
    {
      "cell_type": "markdown",
      "metadata": {
        "id": "view-in-github",
        "colab_type": "text"
      },
      "source": [
        "<a href=\"https://colab.research.google.com/github/SamarBaghdadi/Prediction-of-Product-Sales/blob/main/Prediction_of_Product_Sales.ipynb\" target=\"_parent\"><img src=\"https://colab.research.google.com/assets/colab-badge.svg\" alt=\"Open In Colab\"/></a>"
      ]
    },
    {
      "cell_type": "markdown",
      "source": [
        "#Project Title: Prediction of Product Sales#\n",
        "- Author: Samar BAGHDADI\n"
      ],
      "metadata": {
        "id": "nPM71VAIToTF"
      }
    },
    {
      "cell_type": "code",
      "source": [],
      "metadata": {
        "id": "j_DPX11jUonQ"
      },
      "execution_count": null,
      "outputs": []
    },
    {
      "cell_type": "markdown",
      "source": [
        "##Project Overview##"
      ],
      "metadata": {
        "id": "i6kBUNqrUKWj"
      }
    },
    {
      "cell_type": "markdown",
      "source": [
        "##Load and Inspect Data##"
      ],
      "metadata": {
        "id": "WPnjoxI1URzw"
      }
    },
    {
      "cell_type": "code",
      "source": [],
      "metadata": {
        "id": "b7UmfoytUWJI"
      },
      "execution_count": null,
      "outputs": []
    },
    {
      "cell_type": "markdown",
      "source": [
        "##Clean Data"
      ],
      "metadata": {
        "id": "PFsqNdmgUWrW"
      }
    },
    {
      "cell_type": "code",
      "source": [],
      "metadata": {
        "id": "fW9FlEofUacH"
      },
      "execution_count": null,
      "outputs": []
    },
    {
      "cell_type": "markdown",
      "source": [
        "##Exploratory Data Analysis"
      ],
      "metadata": {
        "id": "QhvmQrWGUaxh"
      }
    },
    {
      "cell_type": "code",
      "source": [],
      "metadata": {
        "id": "oqfmjOnuUeJY"
      },
      "execution_count": null,
      "outputs": []
    },
    {
      "cell_type": "markdown",
      "source": [
        "##Feature Inspection"
      ],
      "metadata": {
        "id": "fu8yLmvjUeo_"
      }
    },
    {
      "cell_type": "code",
      "source": [],
      "metadata": {
        "id": "pd2hvyUdUiSJ"
      },
      "execution_count": null,
      "outputs": []
    }
  ]
}